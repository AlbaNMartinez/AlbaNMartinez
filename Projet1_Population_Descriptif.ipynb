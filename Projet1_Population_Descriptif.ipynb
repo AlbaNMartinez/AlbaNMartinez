{
  "nbformat": 4,
  "nbformat_minor": 0,
  "metadata": {
    "colab": {
      "name": "Projet1-Population.Descriptif",
      "provenance": [],
      "authorship_tag": "ABX9TyOHYz02z4cGwyS+L5Obdryg",
      "include_colab_link": true
    },
    "kernelspec": {
      "name": "python3",
      "display_name": "Python 3"
    },
    "language_info": {
      "name": "python"
    }
  },
  "cells": [
    {
      "cell_type": "markdown",
      "metadata": {
        "id": "view-in-github",
        "colab_type": "text"
      },
      "source": [
        "<a href=\"https://colab.research.google.com/github/AlbaNMartinez/AlbaNMartinez/blob/main/Projet1_Population_Descriptif.ipynb\" target=\"_parent\"><img src=\"https://colab.research.google.com/assets/colab-badge.svg\" alt=\"Open In Colab\"/></a>"
      ]
    },
    {
      "cell_type": "code",
      "metadata": {
        "id": "Eoz2ylv1733E"
      },
      "source": [
        "import pandas as pd\n",
        "import numpy as np\n",
        "import matplotlib.pyplot as plt\n",
        "import seaborn as sns"
      ],
      "execution_count": 1,
      "outputs": []
    },
    {
      "cell_type": "markdown",
      "metadata": {
        "id": "RBprnLe-9cIc"
      },
      "source": [
        "\n",
        "● **population.csv ** : Informations démographiques par ville, âge, sexe et mode de vie\n",
        "NIVGEO : geographic level (arrondissement, communes…)\n",
        "CODGEO : unique code for the town\n",
        "LIBGEO : name of the town\n",
        "MOCO : mode de cohabitation :\n",
        "■\t11 = enfants vivant avec deux parents\n",
        "■\t12 = enfants vivant avec un seul parent\n",
        "■\t21 = adultes vivant en couple sans enfant\n",
        "■\t22 = adultes vivant en couple avec enfants\n",
        "■\t23 = adultes vivant seuls avec enfants\n",
        "■\t31 = personnes étrangères à la famille vivant au foyer\n",
        "■\t32 = personnes vivant seulesAGE80_17 : catégorie d'âge (tranche de 5 ans) | ex : 0 -> personnes âgées de 0 à 4 ans\n",
        "SEXE : sexe, 1 pour homme | 2 pour femme\n",
        "NB : Nombre de personnes dans la catégorie\n",
        "\n"
      ]
    },
    {
      "cell_type": "markdown",
      "metadata": {
        "id": "IpMfivdWZqhr"
      },
      "source": [
        "## Analyse du dataset \"Population\"\n",
        "\n",
        "Les unité d'analyse des données est la commune, raison pour laquelle apparait la colonne NIVGEO = COM pour toutes les observations\n",
        "\n",
        "\n",
        "\n",
        "\n"
      ]
    },
    {
      "cell_type": "code",
      "metadata": {
        "colab": {
          "base_uri": "https://localhost:8080/",
          "height": 241
        },
        "id": "-F8X_gZH_XWd",
        "outputId": "879ca8b6-5e4c-4318-d2a0-cd816cdbf48b"
      },
      "source": [
        "# Informations démographiques par ville, âge, sexe et mode de vie NIVGEO \n",
        "population = pd.read_csv ('population.csv')\n",
        "population.head()"
      ],
      "execution_count": 2,
      "outputs": [
        {
          "output_type": "stream",
          "name": "stderr",
          "text": [
            "/usr/local/lib/python3.7/dist-packages/IPython/core/interactiveshell.py:2718: DtypeWarning: Columns (1) have mixed types.Specify dtype option on import or set low_memory=False.\n",
            "  interactivity=interactivity, compiler=compiler, result=result)\n"
          ]
        },
        {
          "output_type": "execute_result",
          "data": {
            "text/html": [
              "<div>\n",
              "<style scoped>\n",
              "    .dataframe tbody tr th:only-of-type {\n",
              "        vertical-align: middle;\n",
              "    }\n",
              "\n",
              "    .dataframe tbody tr th {\n",
              "        vertical-align: top;\n",
              "    }\n",
              "\n",
              "    .dataframe thead th {\n",
              "        text-align: right;\n",
              "    }\n",
              "</style>\n",
              "<table border=\"1\" class=\"dataframe\">\n",
              "  <thead>\n",
              "    <tr style=\"text-align: right;\">\n",
              "      <th></th>\n",
              "      <th>NIVGEO</th>\n",
              "      <th>CODGEO</th>\n",
              "      <th>LIBGEO</th>\n",
              "      <th>MOCO</th>\n",
              "      <th>AGEQ80_17</th>\n",
              "      <th>SEXE</th>\n",
              "      <th>NB</th>\n",
              "    </tr>\n",
              "  </thead>\n",
              "  <tbody>\n",
              "    <tr>\n",
              "      <th>0</th>\n",
              "      <td>COM</td>\n",
              "      <td>1001</td>\n",
              "      <td>L'Abergement-Clémenciat</td>\n",
              "      <td>11</td>\n",
              "      <td>0</td>\n",
              "      <td>1</td>\n",
              "      <td>15</td>\n",
              "    </tr>\n",
              "    <tr>\n",
              "      <th>1</th>\n",
              "      <td>COM</td>\n",
              "      <td>1001</td>\n",
              "      <td>L'Abergement-Clémenciat</td>\n",
              "      <td>11</td>\n",
              "      <td>0</td>\n",
              "      <td>2</td>\n",
              "      <td>15</td>\n",
              "    </tr>\n",
              "    <tr>\n",
              "      <th>2</th>\n",
              "      <td>COM</td>\n",
              "      <td>1001</td>\n",
              "      <td>L'Abergement-Clémenciat</td>\n",
              "      <td>11</td>\n",
              "      <td>5</td>\n",
              "      <td>1</td>\n",
              "      <td>20</td>\n",
              "    </tr>\n",
              "    <tr>\n",
              "      <th>3</th>\n",
              "      <td>COM</td>\n",
              "      <td>1001</td>\n",
              "      <td>L'Abergement-Clémenciat</td>\n",
              "      <td>11</td>\n",
              "      <td>5</td>\n",
              "      <td>2</td>\n",
              "      <td>20</td>\n",
              "    </tr>\n",
              "    <tr>\n",
              "      <th>4</th>\n",
              "      <td>COM</td>\n",
              "      <td>1001</td>\n",
              "      <td>L'Abergement-Clémenciat</td>\n",
              "      <td>11</td>\n",
              "      <td>10</td>\n",
              "      <td>1</td>\n",
              "      <td>20</td>\n",
              "    </tr>\n",
              "  </tbody>\n",
              "</table>\n",
              "</div>"
            ],
            "text/plain": [
              "  NIVGEO CODGEO                   LIBGEO  MOCO  AGEQ80_17  SEXE  NB\n",
              "0    COM   1001  L'Abergement-Clémenciat    11          0     1  15\n",
              "1    COM   1001  L'Abergement-Clémenciat    11          0     2  15\n",
              "2    COM   1001  L'Abergement-Clémenciat    11          5     1  20\n",
              "3    COM   1001  L'Abergement-Clémenciat    11          5     2  20\n",
              "4    COM   1001  L'Abergement-Clémenciat    11         10     1  20"
            ]
          },
          "metadata": {},
          "execution_count": 2
        }
      ]
    },
    {
      "cell_type": "code",
      "metadata": {
        "colab": {
          "base_uri": "https://localhost:8080/",
          "height": 312
        },
        "id": "FKWjlJu__6-G",
        "outputId": "739f09c8-2fc8-47fc-faff-e219055c5b2c"
      },
      "source": [
        "population.info()\n",
        "'''\n",
        "NIVGEO : geographic level (arrondissement, communes…) \n",
        "CODGEO : unique code for the town \n",
        "LIBGEO : name of the town \n",
        "MOCO : mode de cohabitation : \n",
        " 11 = enfants vivant avec deux parents \n",
        " 12 = enfants vivant avec un seul parent \n",
        " 21 = adultes vivant en couple sans enfant \n",
        " 22 = adultes vivant en couple avec enfants \n",
        " 23 = adultes vivant seuls avec enfants \n",
        " 31 = personnes étrangères à la famille vivant au foyer \n",
        " 32 = personnes vivant seules\n",
        "AGE80_17 : catégorie d'âge (tranche de 5 ans) | ex : 0 -> personnes âgées de 0 à 4 ans\n",
        "SEXE : sexe, 1 pour homme | 2 pour femme \n",
        "NB : Nombre de personnes dans la catégorie\n",
        "'''\n"
      ],
      "execution_count": 3,
      "outputs": [
        {
          "output_type": "stream",
          "name": "stdout",
          "text": [
            "<class 'pandas.core.frame.DataFrame'>\n",
            "RangeIndex: 8536584 entries, 0 to 8536583\n",
            "Data columns (total 7 columns):\n",
            " #   Column     Dtype \n",
            "---  ------     ----- \n",
            " 0   NIVGEO     object\n",
            " 1   CODGEO     object\n",
            " 2   LIBGEO     object\n",
            " 3   MOCO       int64 \n",
            " 4   AGEQ80_17  int64 \n",
            " 5   SEXE       int64 \n",
            " 6   NB         int64 \n",
            "dtypes: int64(4), object(3)\n",
            "memory usage: 455.9+ MB\n"
          ]
        },
        {
          "output_type": "execute_result",
          "data": {
            "application/vnd.google.colaboratory.intrinsic+json": {
              "type": "string"
            },
            "text/plain": [
              "\"\\nNIVGEO : geographic level (arrondissement, communes…) \\nCODGEO : unique code for the town \\nLIBGEO : name of the town \\nMOCO : mode de cohabitation : \\n 11 = enfants vivant avec deux parents \\n 12 = enfants vivant avec un seul parent \\n 21 = adultes vivant en couple sans enfant \\n 22 = adultes vivant en couple avec enfants \\n 23 = adultes vivant seuls avec enfants \\n 31 = personnes étrangères à la famille vivant au foyer \\n 32 = personnes vivant seules\\nAGE80_17 : catégorie d'âge (tranche de 5 ans) | ex : 0 -> personnes âgées de 0 à 4 ans\\nSEXE : sexe, 1 pour homme | 2 pour femme \\nNB : Nombre de personnes dans la catégorie\\n\""
            ]
          },
          "metadata": {},
          "execution_count": 3
        }
      ]
    },
    {
      "cell_type": "markdown",
      "metadata": {
        "id": "NdY9rLAvdmrY"
      },
      "source": [
        "L'ensemble de données compte avec 817084 observations. L'architecture de la base est:\n",
        "---\n",
        "Par commune\n",
        "\n",
        "\n",
        "> Selon mode de cohabitation\n",
        "\n",
        ">> l'age\n",
        "\n",
        ">>> et le sexe\n",
        "\n",
        "on observe le total de population\n",
        "\n"
      ]
    },
    {
      "cell_type": "code",
      "metadata": {
        "colab": {
          "base_uri": "https://localhost:8080/",
          "height": 878
        },
        "id": "kPhANrEaBShv",
        "outputId": "a122bc47-ac27-421a-f9f0-5fdfa302dc9f"
      },
      "source": [
        "## Premiere revision a l aide d histogrammes\n",
        "\n",
        "population.hist(figsize=(15,15))\n",
        "plt.show()"
      ],
      "execution_count": 4,
      "outputs": [
        {
          "output_type": "display_data",
          "data": {
            "image/png": "[encoded data removed]",
            "text/plain": [
              "<Figure size 1080x1080 with 4 Axes>"
            ]
          },
          "metadata": {
            "needs_background": "light"
          }
        }
      ]
    },
    {
      "cell_type": "code",
      "metadata": {
        "colab": {
          "base_uri": "https://localhost:8080/"
        },
        "id": "2KIjluZeZ7id",
        "outputId": "9c3aaa73-a89a-4698-c97f-d14c9e5b466a"
      },
      "source": [
        "# La variable Niveau Geographique NIVGEO ne change pas \n",
        "population['NIVGEO'].unique()"
      ],
      "execution_count": 5,
      "outputs": [
        {
          "output_type": "execute_result",
          "data": {
            "text/plain": [
              "array(['COM'], dtype=object)"
            ]
          },
          "metadata": {},
          "execution_count": 5
        }
      ]
    },
    {
      "cell_type": "code",
      "metadata": {
        "colab": {
          "base_uri": "https://localhost:8080/"
        },
        "id": "b3-VgaASaD_7",
        "outputId": "80df2891-7f6e-4c89-e668-620a7fc6c81e"
      },
      "source": [
        "#La deuxieme colonne, le code de la Commune CODGEO servira pour assembler les données si necessaire. \n",
        "# En effet, on observe les données de 3,434 communes , il ne s'agit pas de toutes les communes en France, car le pays compte avec pres de 31327 (INSEE, 2018)\n",
        "# probablement sont les communes avec plus de population, on verra apres.\n",
        "\n",
        "population['CODGEO'].value_counts()"
      ],
      "execution_count": 6,
      "outputs": [
        {
          "output_type": "execute_result",
          "data": {
            "text/plain": [
              "29169    238\n",
              "33387    238\n",
              "33393    238\n",
              "33392    238\n",
              "33391    238\n",
              "        ... \n",
              "1001     238\n",
              "30320    196\n",
              "28267    174\n",
              "28267     64\n",
              "30320     42\n",
              "Name: CODGEO, Length: 35870, dtype: int64"
            ]
          },
          "metadata": {},
          "execution_count": 6
        }
      ]
    },
    {
      "cell_type": "code",
      "metadata": {
        "colab": {
          "base_uri": "https://localhost:8080/"
        },
        "id": "MWsb-RCkc0C5",
        "outputId": "cff4ed24-6dab-4aeb-c184-c206e4c372f2"
      },
      "source": [
        "population['CODGEO'].unique().shape"
      ],
      "execution_count": 7,
      "outputs": [
        {
          "output_type": "execute_result",
          "data": {
            "text/plain": [
              "(35870,)"
            ]
          },
          "metadata": {},
          "execution_count": 7
        }
      ]
    },
    {
      "cell_type": "code",
      "metadata": {
        "colab": {
          "base_uri": "https://localhost:8080/"
        },
        "id": "NlBEyKbRap5W",
        "outputId": "52a7b5df-6d3f-4503-898b-733c2daedff8"
      },
      "source": [
        "# Pour ce qui est de l'age, la base est organisée en tranches d'age, dans ce colonne on trouve des valeurs manquantes nan\n",
        "# il y 1 valeur manquante\n",
        "population['AGEQ80_17'].unique()"
      ],
      "execution_count": 8,
      "outputs": [
        {
          "output_type": "execute_result",
          "data": {
            "text/plain": [
              "array([ 0,  5, 10, 15, 20, 25, 30, 35, 40, 45, 50, 55, 60, 65, 70, 75, 80])"
            ]
          },
          "metadata": {},
          "execution_count": 8
        }
      ]
    },
    {
      "cell_type": "code",
      "metadata": {
        "colab": {
          "base_uri": "https://localhost:8080/"
        },
        "id": "y0IB5Qaday79",
        "outputId": "ed35310b-dd92-4dbf-ef3d-5e676f67495b"
      },
      "source": [
        "population['AGEQ80_17'].value_counts()"
      ],
      "execution_count": 9,
      "outputs": [
        {
          "output_type": "execute_result",
          "data": {
            "text/plain": [
              "80    502152\n",
              "35    502152\n",
              "5     502152\n",
              "10    502152\n",
              "15    502152\n",
              "20    502152\n",
              "25    502152\n",
              "30    502152\n",
              "40    502152\n",
              "75    502152\n",
              "45    502152\n",
              "50    502152\n",
              "55    502152\n",
              "60    502152\n",
              "65    502152\n",
              "70    502152\n",
              "0     502152\n",
              "Name: AGEQ80_17, dtype: int64"
            ]
          },
          "metadata": {},
          "execution_count": 9
        }
      ]
    },
    {
      "cell_type": "code",
      "metadata": {
        "colab": {
          "base_uri": "https://localhost:8080/"
        },
        "id": "uaaM3boeh1yB",
        "outputId": "abd63368-7d36-4191-c14a-bbadfbd45900"
      },
      "source": [
        "population['AGEQ80_17'].isna().sum()"
      ],
      "execution_count": 10,
      "outputs": [
        {
          "output_type": "execute_result",
          "data": {
            "text/plain": [
              "0"
            ]
          },
          "metadata": {},
          "execution_count": 10
        }
      ]
    },
    {
      "cell_type": "code",
      "metadata": {
        "colab": {
          "base_uri": "https://localhost:8080/",
          "height": 49
        },
        "id": "lpZJNKM9bNAe",
        "outputId": "e1544bcd-b0c9-4f31-a695-c7237c2ffbc7"
      },
      "source": [
        "population.loc[population['AGEQ80_17'].isna()]"
      ],
      "execution_count": 11,
      "outputs": [
        {
          "output_type": "execute_result",
          "data": {
            "text/html": [
              "<div>\n",
              "<style scoped>\n",
              "    .dataframe tbody tr th:only-of-type {\n",
              "        vertical-align: middle;\n",
              "    }\n",
              "\n",
              "    .dataframe tbody tr th {\n",
              "        vertical-align: top;\n",
              "    }\n",
              "\n",
              "    .dataframe thead th {\n",
              "        text-align: right;\n",
              "    }\n",
              "</style>\n",
              "<table border=\"1\" class=\"dataframe\">\n",
              "  <thead>\n",
              "    <tr style=\"text-align: right;\">\n",
              "      <th></th>\n",
              "      <th>NIVGEO</th>\n",
              "      <th>CODGEO</th>\n",
              "      <th>LIBGEO</th>\n",
              "      <th>MOCO</th>\n",
              "      <th>AGEQ80_17</th>\n",
              "      <th>SEXE</th>\n",
              "      <th>NB</th>\n",
              "    </tr>\n",
              "  </thead>\n",
              "  <tbody>\n",
              "  </tbody>\n",
              "</table>\n",
              "</div>"
            ],
            "text/plain": [
              "Empty DataFrame\n",
              "Columns: [NIVGEO, CODGEO, LIBGEO, MOCO, AGEQ80_17, SEXE, NB]\n",
              "Index: []"
            ]
          },
          "metadata": {},
          "execution_count": 11
        }
      ]
    },
    {
      "cell_type": "code",
      "metadata": {
        "id": "XuQ7fD-Li04e"
      },
      "source": [
        "# la valeur manquante correspon a la ligne 817083, qui n'a aucune valeur, pourtant on pourrait enlever cette ligne\n",
        "# On cree une nouvelle base qui garde tous les changements?"
      ],
      "execution_count": 12,
      "outputs": []
    },
    {
      "cell_type": "code",
      "metadata": {
        "colab": {
          "base_uri": "https://localhost:8080/"
        },
        "id": "0RJ0zx_7j92u",
        "outputId": "38370bbf-bf99-4c49-c4d9-416041084f97"
      },
      "source": [
        "# La Variable MOCO compte avec 7 categories et aussi la valeur manquante pour la ligne 817083\n",
        "population['MOCO'].unique()"
      ],
      "execution_count": 13,
      "outputs": [
        {
          "output_type": "execute_result",
          "data": {
            "text/plain": [
              "array([11, 12, 21, 22, 23, 31, 32])"
            ]
          },
          "metadata": {},
          "execution_count": 13
        }
      ]
    },
    {
      "cell_type": "code",
      "metadata": {
        "colab": {
          "base_uri": "https://localhost:8080/"
        },
        "id": "dXqtpO9ZkiLC",
        "outputId": "5daf62c1-fb7f-4e44-d989-e2ad5a8421ac"
      },
      "source": [
        "# La Variable sexe a deux possibilités 1 pour homme | 2 pour femme  et aussi la valeur manquante pour la ligne 817083\n",
        "population['SEXE'].unique()"
      ],
      "execution_count": 14,
      "outputs": [
        {
          "output_type": "execute_result",
          "data": {
            "text/plain": [
              "array([1, 2])"
            ]
          },
          "metadata": {},
          "execution_count": 14
        }
      ]
    },
    {
      "cell_type": "code",
      "metadata": {
        "colab": {
          "base_uri": "https://localhost:8080/"
        },
        "id": "evVCXMkvkpVA",
        "outputId": "3adb9df3-0cf3-4107-9457-373b867391c8"
      },
      "source": [
        "# La Variable NB est la seule variable numerique de la base, qui detaille la quantité de population dans la commune pour chaque clasiffication \n",
        "population['NB'].describe()"
      ],
      "execution_count": 15,
      "outputs": [
        {
          "output_type": "execute_result",
          "data": {
            "text/plain": [
              "count    8.536584e+06\n",
              "mean     7.446743e+00\n",
              "std      1.010993e+02\n",
              "min      0.000000e+00\n",
              "25%      0.000000e+00\n",
              "50%      0.000000e+00\n",
              "75%      3.000000e+00\n",
              "max      4.887300e+04\n",
              "Name: NB, dtype: float64"
            ]
          },
          "metadata": {},
          "execution_count": 15
        }
      ]
    },
    {
      "cell_type": "code",
      "metadata": {
        "colab": {
          "base_uri": "https://localhost:8080/"
        },
        "id": "ZPhJamb9lQnA",
        "outputId": "858d4a6d-8705-4bab-f860-ce1ecbb1a283"
      },
      "source": [
        "# En fait quand on regarde les valeurs, il apparaissent beaucoup de 0, car ce sont des classifications pour las quelles la commune ne compte pas de population, notamment \n",
        "# dans le range des enfants avec un age supérieure a 18 \n",
        "population['NB'].value_counts()"
      ],
      "execution_count": 16,
      "outputs": [
        {
          "output_type": "execute_result",
          "data": {
            "text/plain": [
              "0       6325631\n",
              "4        440357\n",
              "5        358493\n",
              "3        143014\n",
              "10       135823\n",
              "         ...   \n",
              "2438          1\n",
              "2441          1\n",
              "2445          1\n",
              "2447          1\n",
              "8164          1\n",
              "Name: NB, Length: 2953, dtype: int64"
            ]
          },
          "metadata": {},
          "execution_count": 16
        }
      ]
    },
    {
      "cell_type": "code",
      "metadata": {
        "colab": {
          "base_uri": "https://localhost:8080/",
          "height": 424
        },
        "id": "EuWNeYWDmEz-",
        "outputId": "d139f2f2-7941-4352-8f0d-9116bc899b3a"
      },
      "source": [
        "population.loc[population['NB']==0]"
      ],
      "execution_count": 17,
      "outputs": [
        {
          "output_type": "execute_result",
          "data": {
            "text/html": [
              "<div>\n",
              "<style scoped>\n",
              "    .dataframe tbody tr th:only-of-type {\n",
              "        vertical-align: middle;\n",
              "    }\n",
              "\n",
              "    .dataframe tbody tr th {\n",
              "        vertical-align: top;\n",
              "    }\n",
              "\n",
              "    .dataframe thead th {\n",
              "        text-align: right;\n",
              "    }\n",
              "</style>\n",
              "<table border=\"1\" class=\"dataframe\">\n",
              "  <thead>\n",
              "    <tr style=\"text-align: right;\">\n",
              "      <th></th>\n",
              "      <th>NIVGEO</th>\n",
              "      <th>CODGEO</th>\n",
              "      <th>LIBGEO</th>\n",
              "      <th>MOCO</th>\n",
              "      <th>AGEQ80_17</th>\n",
              "      <th>SEXE</th>\n",
              "      <th>NB</th>\n",
              "    </tr>\n",
              "  </thead>\n",
              "  <tbody>\n",
              "    <tr>\n",
              "      <th>9</th>\n",
              "      <td>COM</td>\n",
              "      <td>1001</td>\n",
              "      <td>L'Abergement-Clémenciat</td>\n",
              "      <td>11</td>\n",
              "      <td>20</td>\n",
              "      <td>2</td>\n",
              "      <td>0</td>\n",
              "    </tr>\n",
              "    <tr>\n",
              "      <th>12</th>\n",
              "      <td>COM</td>\n",
              "      <td>1001</td>\n",
              "      <td>L'Abergement-Clémenciat</td>\n",
              "      <td>11</td>\n",
              "      <td>30</td>\n",
              "      <td>1</td>\n",
              "      <td>0</td>\n",
              "    </tr>\n",
              "    <tr>\n",
              "      <th>13</th>\n",
              "      <td>COM</td>\n",
              "      <td>1001</td>\n",
              "      <td>L'Abergement-Clémenciat</td>\n",
              "      <td>11</td>\n",
              "      <td>30</td>\n",
              "      <td>2</td>\n",
              "      <td>0</td>\n",
              "    </tr>\n",
              "    <tr>\n",
              "      <th>14</th>\n",
              "      <td>COM</td>\n",
              "      <td>1001</td>\n",
              "      <td>L'Abergement-Clémenciat</td>\n",
              "      <td>11</td>\n",
              "      <td>35</td>\n",
              "      <td>1</td>\n",
              "      <td>0</td>\n",
              "    </tr>\n",
              "    <tr>\n",
              "      <th>15</th>\n",
              "      <td>COM</td>\n",
              "      <td>1001</td>\n",
              "      <td>L'Abergement-Clémenciat</td>\n",
              "      <td>11</td>\n",
              "      <td>35</td>\n",
              "      <td>2</td>\n",
              "      <td>0</td>\n",
              "    </tr>\n",
              "    <tr>\n",
              "      <th>...</th>\n",
              "      <td>...</td>\n",
              "      <td>...</td>\n",
              "      <td>...</td>\n",
              "      <td>...</td>\n",
              "      <td>...</td>\n",
              "      <td>...</td>\n",
              "      <td>...</td>\n",
              "    </tr>\n",
              "    <tr>\n",
              "      <th>8536558</th>\n",
              "      <td>COM</td>\n",
              "      <td>97424</td>\n",
              "      <td>Cilaos</td>\n",
              "      <td>32</td>\n",
              "      <td>20</td>\n",
              "      <td>1</td>\n",
              "      <td>0</td>\n",
              "    </tr>\n",
              "    <tr>\n",
              "      <th>8536563</th>\n",
              "      <td>COM</td>\n",
              "      <td>97424</td>\n",
              "      <td>Cilaos</td>\n",
              "      <td>32</td>\n",
              "      <td>30</td>\n",
              "      <td>2</td>\n",
              "      <td>0</td>\n",
              "    </tr>\n",
              "    <tr>\n",
              "      <th>8536565</th>\n",
              "      <td>COM</td>\n",
              "      <td>97424</td>\n",
              "      <td>Cilaos</td>\n",
              "      <td>32</td>\n",
              "      <td>35</td>\n",
              "      <td>2</td>\n",
              "      <td>0</td>\n",
              "    </tr>\n",
              "    <tr>\n",
              "      <th>8536567</th>\n",
              "      <td>COM</td>\n",
              "      <td>97424</td>\n",
              "      <td>Cilaos</td>\n",
              "      <td>32</td>\n",
              "      <td>40</td>\n",
              "      <td>2</td>\n",
              "      <td>0</td>\n",
              "    </tr>\n",
              "    <tr>\n",
              "      <th>8536582</th>\n",
              "      <td>COM</td>\n",
              "      <td>97424</td>\n",
              "      <td>Cilaos</td>\n",
              "      <td>32</td>\n",
              "      <td>80</td>\n",
              "      <td>1</td>\n",
              "      <td>0</td>\n",
              "    </tr>\n",
              "  </tbody>\n",
              "</table>\n",
              "<p>6325631 rows × 7 columns</p>\n",
              "</div>"
            ],
            "text/plain": [
              "        NIVGEO CODGEO                   LIBGEO  MOCO  AGEQ80_17  SEXE  NB\n",
              "9          COM   1001  L'Abergement-Clémenciat    11         20     2   0\n",
              "12         COM   1001  L'Abergement-Clémenciat    11         30     1   0\n",
              "13         COM   1001  L'Abergement-Clémenciat    11         30     2   0\n",
              "14         COM   1001  L'Abergement-Clémenciat    11         35     1   0\n",
              "15         COM   1001  L'Abergement-Clémenciat    11         35     2   0\n",
              "...        ...    ...                      ...   ...        ...   ...  ..\n",
              "8536558    COM  97424                   Cilaos    32         20     1   0\n",
              "8536563    COM  97424                   Cilaos    32         30     2   0\n",
              "8536565    COM  97424                   Cilaos    32         35     2   0\n",
              "8536567    COM  97424                   Cilaos    32         40     2   0\n",
              "8536582    COM  97424                   Cilaos    32         80     1   0\n",
              "\n",
              "[6325631 rows x 7 columns]"
            ]
          },
          "metadata": {},
          "execution_count": 17
        }
      ]
    },
    {
      "cell_type": "markdown",
      "metadata": {
        "id": "xVV63qY2jD2S"
      },
      "source": [
        "# MODIFICATIONS SUGGÉREES A LA BASE\n",
        "\n",
        "1. Enlever les valeurs manquantes \n",
        "\n",
        "population = population.dropna (axis =0, how ='any')\n",
        "\n",
        "2. Si l'on veut croisser la basse de population avec la base des salaires ou des entreprises, ce n'est pas d'interes de garder les categories des enfants.\n",
        "On pourrait les enlever.\n",
        "\n",
        "3. De meme, pour les adultes, étant donné qu'on s 'interesse aux salaires, on pourrait limiter a l'age productive. \n",
        "\n",
        "4. Comme la variable a travailler sera le nombre de population, on pourrait l'enlever pour totaliser (ou pas). ceci diminue ostensiblement la base et allege les procedures."
      ]
    },
    {
      "cell_type": "code",
      "metadata": {
        "id": "tF6asMQam0Rp"
      },
      "source": [
        "#Enlever les NA\n",
        "population = population.dropna (axis =0, how ='any')\n",
        "\n"
      ],
      "execution_count": 18,
      "outputs": []
    },
    {
      "cell_type": "code",
      "metadata": {
        "colab": {
          "base_uri": "https://localhost:8080/"
        },
        "id": "YWE1a8tfm43X",
        "outputId": "0cab0068-9623-4d0b-a0c8-cb0c99d1fca1"
      },
      "source": [
        "# enlever categories renseignant enfants et étrangers présents dans le foyer\n",
        "\n",
        "population['MOCO'] =  population['MOCO'].astype(int)\n",
        "population = population[(population['MOCO']!= 11.0) & (population['MOCO']!= 12) & (population['MOCO']!= 31)]\n",
        "population.shape\n",
        "# On a enlevé 116723 observations"
      ],
      "execution_count": 19,
      "outputs": [
        {
          "output_type": "execute_result",
          "data": {
            "text/plain": [
              "(4878048, 7)"
            ]
          },
          "metadata": {},
          "execution_count": 19
        }
      ]
    },
    {
      "cell_type": "code",
      "metadata": {
        "id": "aYrhvFbAnetG"
      },
      "source": [
        "# Enlever cateories d age superieures a 70 ans (au cas ou on voudrais regarder les senior...)\n",
        "population['AGEQ80_17'] =  population['AGEQ80_17'].astype(int)\n",
        "population = population[(population['AGEQ80_17']>= 20) & (population['AGEQ80_17']<= 70) ]\n",
        "# On a enleve 171658 observations"
      ],
      "execution_count": 20,
      "outputs": []
    },
    {
      "cell_type": "code",
      "metadata": {
        "colab": {
          "base_uri": "https://localhost:8080/"
        },
        "id": "6eat080XoxfW",
        "outputId": "211a30df-f48d-4213-9e6a-f67ddb5b8b03"
      },
      "source": [
        "# On \n",
        "population['MOCO'].value_counts()"
      ],
      "execution_count": 21,
      "outputs": [
        {
          "output_type": "execute_result",
          "data": {
            "text/plain": [
              "32    789096\n",
              "23    789096\n",
              "22    789096\n",
              "21    789096\n",
              "Name: MOCO, dtype: int64"
            ]
          },
          "metadata": {},
          "execution_count": 21
        }
      ]
    },
    {
      "cell_type": "code",
      "metadata": {
        "id": "7NmvhwQasUkO"
      },
      "source": [
        "# Enlever les lignes que ne compent pas des populations avec les caracteristiques\n",
        "population['NB'] =  population['NB'].astype(int)\n",
        "population = population[(population['NB']!= 0) ]"
      ],
      "execution_count": 26,
      "outputs": []
    },
    {
      "cell_type": "code",
      "metadata": {
        "colab": {
          "base_uri": "https://localhost:8080/",
          "height": 206
        },
        "id": "FMohYEmvryzO",
        "outputId": "05c67019-824d-4443-c3c3-ffed1bfb0233"
      },
      "source": [
        "population.head()"
      ],
      "execution_count": 23,
      "outputs": [
        {
          "output_type": "execute_result",
          "data": {
            "text/html": [
              "<div>\n",
              "<style scoped>\n",
              "    .dataframe tbody tr th:only-of-type {\n",
              "        vertical-align: middle;\n",
              "    }\n",
              "\n",
              "    .dataframe tbody tr th {\n",
              "        vertical-align: top;\n",
              "    }\n",
              "\n",
              "    .dataframe thead th {\n",
              "        text-align: right;\n",
              "    }\n",
              "</style>\n",
              "<table border=\"1\" class=\"dataframe\">\n",
              "  <thead>\n",
              "    <tr style=\"text-align: right;\">\n",
              "      <th></th>\n",
              "      <th>NIVGEO</th>\n",
              "      <th>CODGEO</th>\n",
              "      <th>LIBGEO</th>\n",
              "      <th>MOCO</th>\n",
              "      <th>AGEQ80_17</th>\n",
              "      <th>SEXE</th>\n",
              "      <th>NB</th>\n",
              "    </tr>\n",
              "  </thead>\n",
              "  <tbody>\n",
              "    <tr>\n",
              "      <th>79</th>\n",
              "      <td>COM</td>\n",
              "      <td>1001</td>\n",
              "      <td>L'Abergement-Clémenciat</td>\n",
              "      <td>21</td>\n",
              "      <td>25</td>\n",
              "      <td>2</td>\n",
              "      <td>10</td>\n",
              "    </tr>\n",
              "    <tr>\n",
              "      <th>80</th>\n",
              "      <td>COM</td>\n",
              "      <td>1001</td>\n",
              "      <td>L'Abergement-Clémenciat</td>\n",
              "      <td>21</td>\n",
              "      <td>30</td>\n",
              "      <td>1</td>\n",
              "      <td>10</td>\n",
              "    </tr>\n",
              "    <tr>\n",
              "      <th>84</th>\n",
              "      <td>COM</td>\n",
              "      <td>1001</td>\n",
              "      <td>L'Abergement-Clémenciat</td>\n",
              "      <td>21</td>\n",
              "      <td>40</td>\n",
              "      <td>1</td>\n",
              "      <td>5</td>\n",
              "    </tr>\n",
              "    <tr>\n",
              "      <th>86</th>\n",
              "      <td>COM</td>\n",
              "      <td>1001</td>\n",
              "      <td>L'Abergement-Clémenciat</td>\n",
              "      <td>21</td>\n",
              "      <td>45</td>\n",
              "      <td>1</td>\n",
              "      <td>5</td>\n",
              "    </tr>\n",
              "    <tr>\n",
              "      <th>87</th>\n",
              "      <td>COM</td>\n",
              "      <td>1001</td>\n",
              "      <td>L'Abergement-Clémenciat</td>\n",
              "      <td>21</td>\n",
              "      <td>45</td>\n",
              "      <td>2</td>\n",
              "      <td>10</td>\n",
              "    </tr>\n",
              "  </tbody>\n",
              "</table>\n",
              "</div>"
            ],
            "text/plain": [
              "   NIVGEO CODGEO                   LIBGEO  MOCO  AGEQ80_17  SEXE  NB\n",
              "79    COM   1001  L'Abergement-Clémenciat    21         25     2  10\n",
              "80    COM   1001  L'Abergement-Clémenciat    21         30     1  10\n",
              "84    COM   1001  L'Abergement-Clémenciat    21         40     1   5\n",
              "86    COM   1001  L'Abergement-Clémenciat    21         45     1   5\n",
              "87    COM   1001  L'Abergement-Clémenciat    21         45     2  10"
            ]
          },
          "metadata": {},
          "execution_count": 23
        }
      ]
    },
    {
      "cell_type": "code",
      "metadata": {
        "colab": {
          "base_uri": "https://localhost:8080/"
        },
        "id": "cVrEYFRKr1nG",
        "outputId": "6ee49cab-ec26-499b-9551-225bdf3e1352"
      },
      "source": [
        "population.shape"
      ],
      "execution_count": 24,
      "outputs": [
        {
          "output_type": "execute_result",
          "data": {
            "text/plain": [
              "(1286782, 7)"
            ]
          },
          "metadata": {},
          "execution_count": 24
        }
      ]
    },
    {
      "cell_type": "code",
      "metadata": {
        "colab": {
          "base_uri": "https://localhost:8080/",
          "height": 878
        },
        "id": "oDs9RTLotn-z",
        "outputId": "f6387cd2-d686-49ea-cf61-63520e013c78"
      },
      "source": [
        "\n",
        "population.hist(figsize=(15,15))\n",
        "plt.show()"
      ],
      "execution_count": 27,
      "outputs": [
        {
          "output_type": "display_data",
          "data": {
            "image/png": "[encoded data removed]",
            "text/plain": [
              "<Figure size 1080x1080 with 4 Axes>"
            ]
          },
          "metadata": {
            "needs_background": "light"
          }
        }
      ]
    },
    {
      "cell_type": "code",
      "metadata": {
        "colab": {
          "base_uri": "https://localhost:8080/"
        },
        "id": "YD0eSurTt_vW",
        "outputId": "71ac72ec-b379-493b-b0ee-d57d3bbff8dd"
      },
      "source": [
        "population['NB'] =  population['NB'].astype(int)\n",
        "population['NB'].describe()"
      ],
      "execution_count": 31,
      "outputs": [
        {
          "output_type": "execute_result",
          "data": {
            "text/plain": [
              "count    1.286782e+06\n",
              "mean     2.914517e+01\n",
              "std      1.971430e+02\n",
              "min      1.000000e+00\n",
              "25%      4.000000e+00\n",
              "50%      9.000000e+00\n",
              "75%      2.000000e+01\n",
              "max      4.014700e+04\n",
              "Name: NB, dtype: float64"
            ]
          },
          "metadata": {},
          "execution_count": 31
        }
      ]
    }
  ]
}